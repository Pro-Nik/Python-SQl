{
 "cells": [
  {
   "cell_type": "markdown",
   "metadata": {},
   "source": [
    "String"
   ]
  },
  {
   "cell_type": "code",
   "execution_count": 12,
   "metadata": {},
   "outputs": [
    {
     "name": "stdout",
     "output_type": "stream",
     "text": [
      "s\n",
      "g\n",
      "This\n",
      "Ti sa\n",
      "Ti sasrn\n",
      "git  \n",
      "gnirts a si sihT\n"
     ]
    }
   ],
   "source": [
    "str = \"This is a string\"\n",
    "print(str[3])\n",
    "print(str[-1])\n",
    "\n",
    "print(str[0:4])\n",
    "print(str[0:9:2])\n",
    "print(str[0::2])\n",
    "print(str[-1:-11:-2])\n",
    "\n",
    "# for reverse\n",
    "print(str[-1::-1])"
   ]
  },
  {
   "cell_type": "markdown",
   "metadata": {},
   "source": [
    "String Iteration"
   ]
  },
  {
   "cell_type": "code",
   "execution_count": 24,
   "metadata": {},
   "outputs": [
    {
     "name": "stdout",
     "output_type": "stream",
     "text": [
      "g\n",
      "n\n",
      "i\n",
      "r\n",
      "t\n",
      "s\n",
      " \n",
      "a\n",
      " \n",
      "s\n",
      "i\n",
      " \n",
      "s\n",
      "i\n",
      "h\n",
      "T\n"
     ]
    }
   ],
   "source": [
    "str=\"This is a string\"\n",
    "t = len(str)\n",
    "\n",
    "# for i in range(len(str)):\n",
    "#     print(i)\n",
    "#     print(str[i])\n",
    "\n",
    "for i in range(t-1,-1,-1):\n",
    "    print(str[i])\n",
    "\n"
   ]
  },
  {
   "cell_type": "code",
   "execution_count": 25,
   "metadata": {},
   "outputs": [
    {
     "name": "stdout",
     "output_type": "stream",
     "text": [
      "T\n",
      "h\n",
      "i\n",
      "s\n",
      " \n",
      "i\n",
      "s\n",
      " \n",
      "a\n",
      " \n",
      "s\n",
      "t\n",
      "r\n",
      "i\n",
      "n\n",
      "g\n"
     ]
    }
   ],
   "source": [
    "str = \"This is a string\"\n",
    "for i in str:\n",
    "    print(i)"
   ]
  },
  {
   "cell_type": "markdown",
   "metadata": {},
   "source": [
    "Python string function: lower(), upper(), title(), capitalize()"
   ]
  },
  {
   "cell_type": "code",
   "execution_count": 31,
   "metadata": {},
   "outputs": [
    {
     "name": "stdout",
     "output_type": "stream",
     "text": [
      "this is a string\n",
      "THIS IS A STRING\n",
      "This Is A String\n",
      "This is a string\n"
     ]
    }
   ],
   "source": [
    "str = \"This is a string\"\n",
    "n= str.lower()\n",
    "print(n)\n",
    "m = str.upper()\n",
    "print(m)\n",
    "k = str.title()\n",
    "print(k)\n",
    "l = str.capitalize()\n",
    "print(l)"
   ]
  },
  {
   "cell_type": "markdown",
   "metadata": {},
   "source": [
    "String function- find, index, isalpha, isdigit, isalnum"
   ]
  },
  {
   "cell_type": "code",
   "execution_count": 38,
   "metadata": {},
   "outputs": [
    {
     "name": "stdout",
     "output_type": "stream",
     "text": [
      "6\n",
      "-1\n"
     ]
    }
   ],
   "source": [
    "str = \"Welcome\"\n",
    "print(str.find('e',2)) # 2 se start\n",
    "print(str.find('s'))   # -1 when not found"
   ]
  },
  {
   "cell_type": "code",
   "execution_count": 41,
   "metadata": {},
   "outputs": [
    {
     "name": "stdout",
     "output_type": "stream",
     "text": [
      "6\n"
     ]
    },
    {
     "ename": "ValueError",
     "evalue": "substring not found",
     "output_type": "error",
     "traceback": [
      "\u001b[1;31m---------------------------------------------------------------------------\u001b[0m",
      "\u001b[1;31mValueError\u001b[0m                                Traceback (most recent call last)",
      "Cell \u001b[1;32mIn[41], line 3\u001b[0m\n\u001b[0;32m      1\u001b[0m \u001b[38;5;28mstr\u001b[39m\u001b[38;5;241m=\u001b[39m \u001b[38;5;124m\"\u001b[39m\u001b[38;5;124mWelcome\u001b[39m\u001b[38;5;124m\"\u001b[39m\n\u001b[0;32m      2\u001b[0m \u001b[38;5;28mprint\u001b[39m(\u001b[38;5;28mstr\u001b[39m\u001b[38;5;241m.\u001b[39mindex(\u001b[38;5;124m'\u001b[39m\u001b[38;5;124me\u001b[39m\u001b[38;5;124m'\u001b[39m,\u001b[38;5;241m2\u001b[39m))\n\u001b[1;32m----> 3\u001b[0m \u001b[38;5;28mprint\u001b[39m(\u001b[38;5;28;43mstr\u001b[39;49m\u001b[38;5;241;43m.\u001b[39;49m\u001b[43mindex\u001b[49m\u001b[43m(\u001b[49m\u001b[38;5;124;43m'\u001b[39;49m\u001b[38;5;124;43mz\u001b[39;49m\u001b[38;5;124;43m'\u001b[39;49m\u001b[43m)\u001b[49m)\n",
      "\u001b[1;31mValueError\u001b[0m: substring not found"
     ]
    }
   ],
   "source": [
    "str= \"Welcome\"\n",
    "print(str.index('e',2))\n",
    "print(str.index('z'))  # erroe when not found\n",
    "\n"
   ]
  },
  {
   "cell_type": "code",
   "execution_count": 47,
   "metadata": {},
   "outputs": [
    {
     "name": "stdout",
     "output_type": "stream",
     "text": [
      "True\n",
      "False\n",
      "True\n",
      "True\n"
     ]
    }
   ],
   "source": [
    "str1 = \"Welcome\"\n",
    "str2 = \"1234\"\n",
    "str3 = \"wel123\"\n",
    "print(str1.isalpha())  # only alphabet\n",
    "print(str1.isdigit())  # only digits\n",
    "print(str2.isdigit())\n",
    "print(str3.isalnum())   # can be alphabet or number\n"
   ]
  },
  {
   "cell_type": "markdown",
   "metadata": {},
   "source": [
    "chr() - return character according to ascci given and ord() return ascii"
   ]
  },
  {
   "cell_type": "code",
   "execution_count": 51,
   "metadata": {},
   "outputs": [
    {
     "name": "stdout",
     "output_type": "stream",
     "text": [
      "A\n"
     ]
    }
   ],
   "source": [
    "x = chr(65)\n",
    "print(x)"
   ]
  },
  {
   "cell_type": "code",
   "execution_count": 52,
   "metadata": {},
   "outputs": [
    {
     "name": "stdout",
     "output_type": "stream",
     "text": [
      "65\n"
     ]
    }
   ],
   "source": [
    "y = ord('A')\n",
    "print(y)"
   ]
  },
  {
   "cell_type": "markdown",
   "metadata": {},
   "source": [
    "String Formatting"
   ]
  },
  {
   "cell_type": "code",
   "execution_count": 53,
   "metadata": {},
   "outputs": [
    {
     "name": "stdout",
     "output_type": "stream",
     "text": [
      "My name is Nitish and my age is 22\n"
     ]
    }
   ],
   "source": [
    "# named indexes\n",
    "txt1 = \"My name is {name} and my age is {age}\".format(name = \"Nitish\",age = 22)\n",
    "print(txt1)"
   ]
  },
  {
   "cell_type": "code",
   "execution_count": 57,
   "metadata": {},
   "outputs": [
    {
     "name": "stdout",
     "output_type": "stream",
     "text": [
      "My age is 22 and my naem is Nitish\n"
     ]
    }
   ],
   "source": [
    "#numbered indexes\n",
    "txt2 = \"My age is {1} and my name is {0}\".format(\"Nitish\",22)\n",
    "print(txt2)"
   ]
  },
  {
   "cell_type": "code",
   "execution_count": 58,
   "metadata": {},
   "outputs": [
    {
     "name": "stdout",
     "output_type": "stream",
     "text": [
      "My name is Nitish and my age is 22\n"
     ]
    }
   ],
   "source": [
    "#empty indexes\n",
    "txt3 = \"My name is {} and my age is {}\".format(\"Nitish\",22)\n",
    "print(txt3)\n"
   ]
  },
  {
   "cell_type": "code",
   "execution_count": 59,
   "metadata": {},
   "outputs": [
    {
     "name": "stdout",
     "output_type": "stream",
     "text": [
      "My name is Nitish     and my age is           22\n"
     ]
    }
   ],
   "source": [
    "txt3 = \"My name is {a:10} and my age is {b:12}\".format(a= \"Nitish\",b= 22)\n",
    "print(txt3)"
   ]
  },
  {
   "cell_type": "code",
   "execution_count": 60,
   "metadata": {},
   "outputs": [
    {
     "name": "stdout",
     "output_type": "stream",
     "text": [
      "My name is   Nitish   and my age is           22\n"
     ]
    }
   ],
   "source": [
    "txt3 = \"My name is {a:^10} and my age is {b:12}\".format(a= \"Nitish\",b= 22)\n",
    "print(txt3)"
   ]
  },
  {
   "cell_type": "code",
   "execution_count": 62,
   "metadata": {},
   "outputs": [
    {
     "name": "stdout",
     "output_type": "stream",
     "text": [
      "My name is     Nitish and my age is           22\n"
     ]
    }
   ],
   "source": [
    "txt3 = \"My name is {a:>10} and my age is {b:12}\".format(a= \"Nitish\",b= 22)\n",
    "print(txt3)"
   ]
  }
 ],
 "metadata": {
  "kernelspec": {
   "display_name": "Python 3",
   "language": "python",
   "name": "python3"
  },
  "language_info": {
   "codemirror_mode": {
    "name": "ipython",
    "version": 3
   },
   "file_extension": ".py",
   "mimetype": "text/x-python",
   "name": "python",
   "nbconvert_exporter": "python",
   "pygments_lexer": "ipython3",
   "version": "3.11.1"
  }
 },
 "nbformat": 4,
 "nbformat_minor": 2
}
