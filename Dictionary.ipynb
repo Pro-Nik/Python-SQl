{
 "cells": [
  {
   "cell_type": "markdown",
   "metadata": {},
   "source": [
    "Dictionary- unorder, key:value, mtable, {}"
   ]
  },
  {
   "cell_type": "code",
   "execution_count": 11,
   "metadata": {},
   "outputs": [
    {
     "name": "stdout",
     "output_type": "stream",
     "text": [
      "3\n"
     ]
    }
   ],
   "source": [
    "# rollno = int(input(\"Enter the rollno:\"))\n",
    "d = {\n",
    "        \"name\" : \"Nitish Kumar\",\n",
    "        \"course\" : \"Mtech\",\n",
    "        \"year\" : 2024,\n",
    "        \"marks\" : 90,\n",
    "        101 : \"Name: Nitish, Class: 12th\",\n",
    "        102 : (\"Nitish\",\"Mtech\",\"2024\",90)\n",
    "\n",
    "         \n",
    "}\n",
    "\n",
    "print(d[102][2])"
   ]
  },
  {
   "cell_type": "code",
   "execution_count": 45,
   "metadata": {},
   "outputs": [
    {
     "name": "stdout",
     "output_type": "stream",
     "text": [
      "name Nitish\n",
      "course Mtech\n",
      "DOB 2002\n",
      "marks 90\n"
     ]
    }
   ],
   "source": [
    "# database for diat\n",
    "diat = {\n",
    "    101 : (\"Nitish\",\"Mtech\",\"2024\",90),\n",
    "    102 : (\"Nitish\",\"Mtech\",\"2024\",90),\n",
    "    103 : (\"Nitish\",\"Mtech\",\"2024\",90),\n",
    "    104 : (\"Nitish\",\"Mtech\",\"2024\",90),\n",
    "    105 : (\"Nitish\",\"Mtech\",\"2024\",90),\n",
    "    106 : (\"Nitish\",\"Mtech\",\"2024\",90),\n",
    "    107 : (\"Nitish\",\"Mtech\",\"2024\",90),\n",
    "    108 : {\n",
    "         \"name\": \"Ayush\",\n",
    "        \"course\": \"Mtech\",\n",
    "        \"DOB\" :2001,\n",
    "        \"marks\" : 80\n",
    "\n",
    "    },\n",
    "\n",
    "    109 : {\n",
    "        \"name\": \"Nitish\",\n",
    "        \"course\": \"Mtech\",\n",
    "        \"DOB\" :2002,\n",
    "        \"marks\" : 90\n",
    "    }\n",
    "\n",
    "}\n",
    "\n",
    "for a,b in diat[109].items():\n",
    "    print(a,b)\n",
    "# diat[108][\"marks\"],diat[109][\"marks\"]"
   ]
  },
  {
   "cell_type": "markdown",
   "metadata": {},
   "source": [
    "Dictionary function and methods - get,keys,values,items"
   ]
  },
  {
   "cell_type": "code",
   "execution_count": 39,
   "metadata": {},
   "outputs": [
    {
     "name": "stdout",
     "output_type": "stream",
     "text": [
      "name\n",
      "course\n",
      "year\n",
      "marks\n",
      "\n",
      "\n",
      "Nitish Kumar\n",
      "Mtech\n",
      "2024\n",
      "90\n",
      "\n",
      "\n",
      "name Nitish Kumar\n",
      "course Mtech\n",
      "year 2024\n",
      "marks 90\n"
     ]
    }
   ],
   "source": [
    "d = {\n",
    "        \"name\" : \"Nitish Kumar\",\n",
    "        \"course\" : \"Mtech\",\n",
    "        \"year\" : 2024,\n",
    "        \"marks\" : 90\n",
    "}\n",
    "\n",
    "# print(d.get(\"name\"))\n",
    "\n",
    "#keys\n",
    "for i in d.keys():\n",
    "    print(i)\n",
    "\n",
    "print(\"\\n\")\n",
    "\n",
    "#values\n",
    "for i in d.values():\n",
    "    print(i)\n",
    "\n",
    "print(\"\\n\")\n",
    "#items\n",
    "for a,b in d.items():\n",
    "    print(a,b)"
   ]
  },
  {
   "cell_type": "markdown",
   "metadata": {},
   "source": [
    "delete - pop, del (keys use in both)"
   ]
  },
  {
   "cell_type": "code",
   "execution_count": 46,
   "metadata": {},
   "outputs": [
    {
     "name": "stdout",
     "output_type": "stream",
     "text": [
      "{'course': 'Mtech', 'year': 2024, 'marks': 90}\n"
     ]
    }
   ],
   "source": [
    "d = {\n",
    "        \"name\" : \"Nitish Kumar\",\n",
    "        \"course\" : \"Mtech\",\n",
    "        \"year\" : 2024,\n",
    "        \"marks\" : 90\n",
    "}\n",
    "\n",
    "del d[\"name\"]\n",
    "print(d)"
   ]
  },
  {
   "cell_type": "code",
   "execution_count": 49,
   "metadata": {},
   "outputs": [
    {
     "name": "stdout",
     "output_type": "stream",
     "text": [
      "90\n",
      "{'name': 'Nitish Kumar', 'course': 'Mtech', 'year': 2024}\n"
     ]
    }
   ],
   "source": [
    "d = {\n",
    "        \"name\" : \"Nitish Kumar\",\n",
    "        \"course\" : \"Mtech\",\n",
    "        \"year\" : 2024,\n",
    "        \"marks\" : 90\n",
    "}\n",
    "\n",
    "a = d.pop(\"marks\")\n",
    "print(a)\n",
    "print(d)"
   ]
  },
  {
   "cell_type": "code",
   "execution_count": 50,
   "metadata": {},
   "outputs": [
    {
     "name": "stdout",
     "output_type": "stream",
     "text": [
      "90\n"
     ]
    }
   ],
   "source": [
    "#dict\n",
    "d = dict(name='nitish', marks = 90)\n",
    "print(d['marks'])"
   ]
  },
  {
   "cell_type": "code",
   "execution_count": 52,
   "metadata": {},
   "outputs": [
    {
     "data": {
      "text/plain": [
       "{'name': 'Nitish Kumar', 'course': 'Mtech', 'year': 2024, 'marks': 95}"
      ]
     },
     "execution_count": 52,
     "metadata": {},
     "output_type": "execute_result"
    }
   ],
   "source": [
    "d = {\n",
    "        \"name\" : \"Nitish Kumar\",\n",
    "        \"course\" : \"Mtech\",\n",
    "        \"year\" : 2024,\n",
    "        \"marks\" : 90\n",
    "}\n",
    "\n",
    "d.update({\"marks\":95})\n",
    "d"
   ]
  },
  {
   "cell_type": "code",
   "execution_count": 60,
   "metadata": {},
   "outputs": [
    {
     "name": "stdout",
     "output_type": "stream",
     "text": [
      "{}\n"
     ]
    }
   ],
   "source": [
    "d = {\n",
    "        \"name\" : \"Nitish Kumar\",\n",
    "        \"course\" : \"Mtech\",\n",
    "        \"year\" : 2024,\n",
    "        \"marks\" : 90\n",
    "}\n",
    "d.clear()\n",
    "print(d)"
   ]
  },
  {
   "cell_type": "code",
   "execution_count": 62,
   "metadata": {},
   "outputs": [
    {
     "data": {
      "text/plain": [
       "{'name': 'Nitish Kumar',\n",
       " 'course': 'Mtech',\n",
       " 'year': 2024,\n",
       " 'marks': 90,\n",
       " 'state': 'Faridabad'}"
      ]
     },
     "execution_count": 62,
     "metadata": {},
     "output_type": "execute_result"
    }
   ],
   "source": [
    "d = {\n",
    "        \"name\" : \"Nitish Kumar\",\n",
    "        \"course\" : \"Mtech\",\n",
    "        \"year\" : 2024,\n",
    "        \"marks\" : 90\n",
    "}\n",
    "\n",
    "d[\"state\"]= \"Faridabad\"\n",
    "d\n"
   ]
  },
  {
   "cell_type": "markdown",
   "metadata": {},
   "source": [
    "Nested Dictionary"
   ]
  },
  {
   "cell_type": "code",
   "execution_count": 12,
   "metadata": {},
   "outputs": [
    {
     "name": "stdout",
     "output_type": "stream",
     "text": [
      "Nitish\n",
      "1 {'name': 'Nitish', 'DOB': '21-01-2001', 'Gate-Qualified': 'Yes'}\n",
      "2 {'name': 'Nitish', 'DOB': '22-01-2002', 'Gate-Qualified': 'Yes'}\n",
      "3 {'name': 'Nitish', 'DOB': '22-01-2002', 'Gate-Qualified': 'Yes'}\n",
      "4 {'name': 'Nitish', 'DOB': '22-01-2002', 'Gate-Qualified': 'Yes'}\n",
      "5 {'name': 'Nitish', 'DOB': '22-01-2002', 'Gate-Qualified': 'Yes'}\n",
      "6 {'name': 'Nitish', 'DOB': '22-01-2002', 'Gate-Qualified': 'Yes'}\n",
      "7 {'name': 'Nitish', 'DOB': '22-01-2002', 'Gate-Qualified': 'Yes'}\n",
      "8 {'name': 'Nitish', 'DOB': '22-01-2002', 'Gate-Qualified': 'Yes'}\n",
      "9 {'name': 'Nitish', 'DOB': '22-01-2002', 'Gate-Qualified': 'Yes'}\n",
      "10 {'name': 'Nitish', 'DOB': '22-01-2002', 'Gate-Qualified': 'Yes'}\n",
      "11 {'name': 'Nitish', 'DOB': '22-01-2002', 'Gate-Qualified': 'Yes'}\n"
     ]
    }
   ],
   "source": [
    "ai = {\n",
    "    1 : {'name':'Nitish','DOB':'22-01-2002','Gate-Qualified':'Yes'},\n",
    "    2 : {'name':'Nitish','DOB':'22-01-2002','Gate-Qualified':'Yes'},\n",
    "    3 : {'name':'Nitish','DOB':'22-01-2002','Gate-Qualified':'Yes'},\n",
    "    4 : {'name':'Nitish','DOB':'22-01-2002','Gate-Qualified':'Yes'},\n",
    "    5 : {'name':'Nitish','DOB':'22-01-2002','Gate-Qualified':'Yes'},\n",
    "    6 : {'name':'Nitish','DOB':'22-01-2002','Gate-Qualified':'Yes'},\n",
    "    7 : {'name':'Nitish','DOB':'22-01-2002','Gate-Qualified':'Yes'},\n",
    "    8 : {'name':'Nitish','DOB':'22-01-2002','Gate-Qualified':'Yes'},\n",
    "    9 : {'name':'Nitish','DOB':'22-01-2002','Gate-Qualified':'Yes'},\n",
    "    10 : {'name':'Nitish','DOB':'22-01-2002','Gate-Qualified':'Yes'},\n",
    "    11: {'name':'Nitish','DOB':'22-01-2002','Gate-Qualified':'Yes'}\n",
    "\n",
    "}\n",
    "print(ai[1]['name'])\n",
    "\n",
    "ai[1]['DOB'] = \"21-01-2001\"  #update\n",
    "for i,j in ai.items():\n",
    "    print(i,j)"
   ]
  }
 ],
 "metadata": {
  "kernelspec": {
   "display_name": "Python 3",
   "language": "python",
   "name": "python3"
  },
  "language_info": {
   "codemirror_mode": {
    "name": "ipython",
    "version": 3
   },
   "file_extension": ".py",
   "mimetype": "text/x-python",
   "name": "python",
   "nbconvert_exporter": "python",
   "pygments_lexer": "ipython3",
   "version": "3.11.1"
  }
 },
 "nbformat": 4,
 "nbformat_minor": 2
}
