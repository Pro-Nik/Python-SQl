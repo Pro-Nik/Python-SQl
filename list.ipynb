{
 "cells": [
  {
   "cell_type": "markdown",
   "metadata": {},
   "source": [
    "List - Mutable/Changable, [] seperated by commas"
   ]
  },
  {
   "cell_type": "code",
   "execution_count": 2,
   "metadata": {},
   "outputs": [
    {
     "name": "stdout",
     "output_type": "stream",
     "text": [
      "<class 'list'>\n",
      "4\n"
     ]
    }
   ],
   "source": [
    "l = [1,2,3,4,5]\n",
    "print(type(l))\n",
    "print(l[3])"
   ]
  },
  {
   "cell_type": "code",
   "execution_count": 8,
   "metadata": {},
   "outputs": [
    {
     "name": "stdout",
     "output_type": "stream",
     "text": [
      "4\n",
      "[5, 6, 7]\n",
      "7\n"
     ]
    }
   ],
   "source": [
    "#Nested list\n",
    "l = [1,2,3,4,[5,6,7]]\n",
    "print(l[3])\n",
    "print(l[4])\n",
    "print(l[4][2])"
   ]
  },
  {
   "cell_type": "code",
   "execution_count": 10,
   "metadata": {},
   "outputs": [
    {
     "name": "stdout",
     "output_type": "stream",
     "text": [
      "Nitish\n"
     ]
    }
   ],
   "source": [
    "l= [1,2,3,\"Nitish\", [4,5,6]]\n",
    "print(l[3])\n"
   ]
  },
  {
   "cell_type": "code",
   "execution_count": 23,
   "metadata": {},
   "outputs": [
    {
     "name": "stdout",
     "output_type": "stream",
     "text": [
      "[1, 3, [4, 5, 6]]\n",
      "[[4, 5, 6], 'Nitish', 3, 2, 1]\n"
     ]
    }
   ],
   "source": [
    "#slicing\n",
    "print(l[0::2])\n",
    "print(l[-1::-1])  # reverse"
   ]
  },
  {
   "cell_type": "markdown",
   "metadata": {},
   "source": [
    "List Iteration"
   ]
  },
  {
   "cell_type": "code",
   "execution_count": 40,
   "metadata": {},
   "outputs": [
    {
     "name": "stdout",
     "output_type": "stream",
     "text": [
      "10\n",
      "20\n",
      "30\n",
      "40\n",
      "50\n",
      "60\n",
      "2nd method\n",
      "[1, 2, 3, 'Nitish', [4, 5, 6]]\n",
      "[1, 2, 3, 'Nitish', [4, 5, 6]]\n",
      "[1, 2, 3, 'Nitish', [4, 5, 6]]\n",
      "[1, 2, 3, 'Nitish', [4, 5, 6]]\n",
      "[1, 2, 3, 'Nitish', [4, 5, 6]]\n"
     ]
    }
   ],
   "source": [
    "l1 = [10,20,30,40,50,60]\n",
    "length = len(l1)\n",
    "for i in range(length):\n",
    "    print(l1[i])\n",
    "print(\"2nd method\")\n",
    "for i in l:\n",
    "    print(l)"
   ]
  },
  {
   "cell_type": "code",
   "execution_count": 37,
   "metadata": {},
   "outputs": [
    {
     "name": "stdout",
     "output_type": "stream",
     "text": [
      "60\n",
      "50\n",
      "40\n",
      "30\n",
      "20\n",
      "10\n"
     ]
    }
   ],
   "source": [
    "for i in range(length-1,-1,-1):\n",
    "    print(l1[i])"
   ]
  },
  {
   "cell_type": "markdown",
   "metadata": {},
   "source": [
    "List Comprehension"
   ]
  },
  {
   "cell_type": "code",
   "execution_count": 46,
   "metadata": {},
   "outputs": [
    {
     "name": "stdout",
     "output_type": "stream",
     "text": [
      "[0, 1, 2, 3, 4, 5, 6, 7, 8, 9, 10]\n",
      "[0, 1, 2, 3, 4, 5, 6, 7, 8, 9, 10]\n"
     ]
    }
   ],
   "source": [
    "l = []\n",
    "for i in range(0,11):\n",
    "    # print(i)\n",
    "    l.append(i)\n",
    "\n",
    "print(l)\n",
    "\n",
    "\n",
    "n = [m for m in range(0,11)]\n",
    "print(n)"
   ]
  },
  {
   "cell_type": "code",
   "execution_count": 49,
   "metadata": {},
   "outputs": [
    {
     "data": {
      "text/plain": [
       "[0, 2, 4, 6, 8, 10]"
      ]
     },
     "execution_count": 49,
     "metadata": {},
     "output_type": "execute_result"
    }
   ],
   "source": [
    "#Filter\n",
    "n = [m for m in range(0,11) if m%2==0]\n",
    "n\n"
   ]
  },
  {
   "cell_type": "code",
   "execution_count": 50,
   "metadata": {},
   "outputs": [
    {
     "data": {
      "text/plain": [
       "['N', 'i', 't', 'i', 's', 'h']"
      ]
     },
     "execution_count": 50,
     "metadata": {},
     "output_type": "execute_result"
    }
   ],
   "source": [
    "# string to list\n",
    "s = \"Nitish\"\n",
    "d = [k for k in s]\n",
    "d"
   ]
  },
  {
   "cell_type": "markdown",
   "metadata": {},
   "source": [
    "List Function - del, pop, remove, clear"
   ]
  },
  {
   "cell_type": "code",
   "execution_count": 60,
   "metadata": {},
   "outputs": [
    {
     "name": "stdout",
     "output_type": "stream",
     "text": [
      "[1, 2, 3, 4, 5, 6, 7, 8, 9]\n",
      "5\n"
     ]
    },
    {
     "data": {
      "text/plain": [
       "[1, 2, 3, 6, 7, 8, 9]"
      ]
     },
     "execution_count": 60,
     "metadata": {},
     "output_type": "execute_result"
    }
   ],
   "source": [
    "l = [1,2,3,4,5,6,7,8,9]\n",
    "print(l)\n",
    "\n",
    "# del l[0]\n",
    "# l\n",
    "\n",
    "l.pop(3)\n",
    "print(l.pop(3))\n",
    "l"
   ]
  },
  {
   "cell_type": "code",
   "execution_count": 61,
   "metadata": {},
   "outputs": [
    {
     "name": "stdout",
     "output_type": "stream",
     "text": [
      "[1, 2, 3, 7, 8, 9]\n"
     ]
    }
   ],
   "source": [
    "#Remove\n",
    "l.remove(6)\n",
    "print(l)"
   ]
  },
  {
   "cell_type": "code",
   "execution_count": 63,
   "metadata": {},
   "outputs": [
    {
     "data": {
      "text/plain": [
       "[]"
      ]
     },
     "execution_count": 63,
     "metadata": {},
     "output_type": "execute_result"
    }
   ],
   "source": [
    "#Clear\n",
    "l.clear()\n",
    "l"
   ]
  },
  {
   "cell_type": "code",
   "execution_count": 64,
   "metadata": {},
   "outputs": [
    {
     "data": {
      "text/plain": [
       "[7, 2, 3, 4, 5]"
      ]
     },
     "execution_count": 64,
     "metadata": {},
     "output_type": "execute_result"
    }
   ],
   "source": [
    "#Update\n",
    "l = [1,2,3,4,5]\n",
    "l[0]= 7\n",
    "l"
   ]
  },
  {
   "cell_type": "markdown",
   "metadata": {},
   "source": [
    "Function for update - insert, append, extends"
   ]
  },
  {
   "cell_type": "code",
   "execution_count": 67,
   "metadata": {},
   "outputs": [
    {
     "data": {
      "text/plain": [
       "[0, 2, 1, 2, 3, 4, 5]"
      ]
     },
     "execution_count": 67,
     "metadata": {},
     "output_type": "execute_result"
    }
   ],
   "source": [
    "l = [1,2,3,4,5]\n",
    "l.insert(0,0)\n",
    "l.insert(1,2)\n",
    "l"
   ]
  },
  {
   "cell_type": "code",
   "execution_count": 73,
   "metadata": {},
   "outputs": [
    {
     "data": {
      "text/plain": [
       "[1, 2, 3, 4, 5, 7, [8, 9]]"
      ]
     },
     "execution_count": 73,
     "metadata": {},
     "output_type": "execute_result"
    }
   ],
   "source": [
    "# Appends\n",
    "l = [1,2,3,4,5]\n",
    "l.append(7)\n",
    "\n",
    "k = [8,9]\n",
    "l.append(k)\n",
    "l"
   ]
  },
  {
   "cell_type": "code",
   "execution_count": 74,
   "metadata": {},
   "outputs": [
    {
     "data": {
      "text/plain": [
       "[1, 2, 3, 4, 5, 8, 9]"
      ]
     },
     "execution_count": 74,
     "metadata": {},
     "output_type": "execute_result"
    }
   ],
   "source": [
    "#Extends\n",
    "l = [1,2,3,4,5]\n",
    "l.extend(k)\n",
    "l"
   ]
  },
  {
   "cell_type": "markdown",
   "metadata": {},
   "source": [
    "Function- count,max, min,sort,revese,index"
   ]
  },
  {
   "cell_type": "code",
   "execution_count": 91,
   "metadata": {},
   "outputs": [
    {
     "name": "stdout",
     "output_type": "stream",
     "text": [
      "5\n",
      "1\n",
      "tiger\n",
      "apple\n"
     ]
    }
   ],
   "source": [
    "l = [1,2,3,4,2,3,1,4,5,2,1,3,4]\n",
    "l.count(1)\n",
    "\n",
    "m = print(max(l))\n",
    "c = print(min(l))\n",
    "m\n",
    "c\n",
    "\n",
    "n = [\"apple\",\"mango\",\"tiger\",\"banana\"]\n",
    "print((max(n)))\n",
    "print(min(n))"
   ]
  },
  {
   "cell_type": "code",
   "execution_count": 94,
   "metadata": {},
   "outputs": [
    {
     "data": {
      "text/plain": [
       "[1, 1, 1, 2, 2, 2, 3, 3, 3, 4, 4, 4, 5]"
      ]
     },
     "execution_count": 94,
     "metadata": {},
     "output_type": "execute_result"
    }
   ],
   "source": [
    "l = [1,2,3,4,2,3,1,4,5,2,1,3,4]\n",
    "l.sort()\n",
    "l"
   ]
  },
  {
   "cell_type": "code",
   "execution_count": 96,
   "metadata": {},
   "outputs": [
    {
     "data": {
      "text/plain": [
       "[4, 3, 1, 2, 5, 4, 1, 3, 2, 4, 3, 2, 1]"
      ]
     },
     "execution_count": 96,
     "metadata": {},
     "output_type": "execute_result"
    }
   ],
   "source": [
    "l = [1,2,3,4,2,3,1,4,5,2,1,3,4]\n",
    "l.reverse()\n",
    "l"
   ]
  },
  {
   "cell_type": "code",
   "execution_count": 101,
   "metadata": {},
   "outputs": [
    {
     "name": "stdout",
     "output_type": "stream",
     "text": [
      "8\n"
     ]
    }
   ],
   "source": [
    "l = [1,2,3,4,2,3,1,4,5,2,1,3,4]\n",
    "print(l.index(5))"
   ]
  },
  {
   "cell_type": "markdown",
   "metadata": {},
   "source": [
    "Iterate 2 list same time (Zip function)"
   ]
  },
  {
   "cell_type": "code",
   "execution_count": 102,
   "metadata": {},
   "outputs": [
    {
     "name": "stdout",
     "output_type": "stream",
     "text": [
      "1 2\n",
      "2 5\n",
      "3 6\n",
      "4 7\n",
      "2 8\n"
     ]
    }
   ],
   "source": [
    "l = [1,2,3,4,2]\n",
    "l1= [2,5,6,7,8]\n",
    "\n",
    "for a,b in zip(l,l1):\n",
    "    print(a,b)"
   ]
  },
  {
   "cell_type": "code",
   "execution_count": 103,
   "metadata": {},
   "outputs": [
    {
     "name": "stdout",
     "output_type": "stream",
     "text": [
      "1 2\n",
      "2 5\n",
      "3 6\n",
      "4 7\n",
      "2 8\n"
     ]
    }
   ],
   "source": [
    "l = [1,2,3,4,2,5,6] # ignore if extra value exist\n",
    "l1= [2,5,6,7,8]\n",
    "\n",
    "for a,b in zip(l,l1):\n",
    "    print(a,b)\n",
    "\n"
   ]
  },
  {
   "cell_type": "code",
   "execution_count": 105,
   "metadata": {},
   "outputs": [
    {
     "name": "stdout",
     "output_type": "stream",
     "text": [
      "1 2\n",
      "2 5\n",
      "3 6\n",
      "4 7\n",
      "2 8\n"
     ]
    }
   ],
   "source": [
    "# 2nd method to iterate\n",
    "l = [1,2,3,4,2]\n",
    "l1= [2,5,6,7,8]\n",
    "\n",
    "t = len(l)\n",
    "\n",
    "for i in range(t):\n",
    "    print(l[i], l1[i])"
   ]
  },
  {
   "cell_type": "markdown",
   "metadata": {},
   "source": [
    "Convert string to list"
   ]
  },
  {
   "cell_type": "code",
   "execution_count": 8,
   "metadata": {},
   "outputs": [
    {
     "name": "stdout",
     "output_type": "stream",
     "text": [
      "['jfhjfgh', 'dslkjhf', 'dnf']\n"
     ]
    }
   ],
   "source": [
    "# n = input(\"Enter the value:\")\n",
    "# print(n)\n",
    "\n",
    "# l = n.split();\n",
    "# print(l)\n",
    "\n",
    "l =[]\n",
    "for i in range(3):\n",
    "    n = input(\"Enter the value\"+ str(i)+ \":-\")\n",
    "    # print(n)\n",
    "    l.append(n)\n",
    "print(l)\n",
    "\n",
    "\n"
   ]
  },
  {
   "cell_type": "markdown",
   "metadata": {},
   "source": [
    "Stack and Queue using a list data type"
   ]
  },
  {
   "cell_type": "code",
   "execution_count": 10,
   "metadata": {},
   "outputs": [
    {
     "name": "stdout",
     "output_type": "stream",
     "text": [
      "['23']\n",
      "['23', '34']\n",
      "last stack element 34\n",
      "Display stack ['23', '34']\n"
     ]
    }
   ],
   "source": [
    "l = []\n",
    "while True:\n",
    "    c =int(input('''\n",
    "              1 Push Elements\n",
    "              2 Pop Elements\n",
    "              3 Peek Element\n",
    "              4 Display Element\n",
    "              5 Exit\n",
    "\n",
    "            '''))\n",
    "    if c==1:\n",
    "        n = input(\"enter the value\")\n",
    "        l.append(n)\n",
    "        print(l)\n",
    "\n",
    "    elif c ==2:\n",
    "        if len(l)==0:\n",
    "            print(\"Empty Stack\")\n",
    "        else:\n",
    "            p = l.pop()\n",
    "            print(p)\n",
    "            print(l)\n",
    "    \n",
    "    elif c==3:\n",
    "        if len(l)==0:\n",
    "            print(\"Empty Stack\")\n",
    "        else:\n",
    "            print(\"last stack element\", l[-1])\n",
    "    elif c==4:\n",
    "        print(\"Display stack\",l)\n",
    "\n",
    "    elif c==5:\n",
    "        break\n",
    "    else:\n",
    "        print(\"Invalid input\")\n",
    "\n"
   ]
  },
  {
   "cell_type": "markdown",
   "metadata": {},
   "source": [
    "Queue using list"
   ]
  },
  {
   "cell_type": "code",
   "execution_count": null,
   "metadata": {},
   "outputs": [],
   "source": [
    "l = []\n",
    "while True:\n",
    "    c =int(input('''\n",
    "              1 Push Elements\n",
    "              2 Pop First Elements\n",
    "              3 Front Element\n",
    "              4 Last Element\n",
    "              5 Display\n",
    "              6 Exit\n",
    "\n",
    "            '''))\n",
    "    if c==1:\n",
    "        n = input(\"enter the value\")\n",
    "        l.append(n)\n",
    "        print(l)\n",
    "\n",
    "    elif c ==2:\n",
    "        if len(l)==0:\n",
    "            print(\"Empty Stack\")\n",
    "        else:\n",
    "            del l[0]\n",
    "            print(p)\n",
    "            print(l)\n",
    "    \n",
    "    elif c==3:\n",
    "        if len(l)==0:\n",
    "            print(\"Empty Stack\")\n",
    "        else:\n",
    "            print(\"First Queue element\", l[0])\n",
    "\n",
    "    elif c==4:\n",
    "        if len(l)==0:\n",
    "            print(\"Empty queue\")\n",
    "        else:\n",
    "            print(\"Last Queue Element:\",l[-1])\n",
    "    \n",
    "    elif c==5:\n",
    "        print(\"Display Element:\",l)\n",
    "\n",
    "    elif c==6:\n",
    "        break\n",
    "    else:\n",
    "        print(\"Invalid input\")\n",
    "\n"
   ]
  }
 ],
 "metadata": {
  "kernelspec": {
   "display_name": "Python 3",
   "language": "python",
   "name": "python3"
  },
  "language_info": {
   "codemirror_mode": {
    "name": "ipython",
    "version": 3
   },
   "file_extension": ".py",
   "mimetype": "text/x-python",
   "name": "python",
   "nbconvert_exporter": "python",
   "pygments_lexer": "ipython3",
   "version": "3.11.1"
  }
 },
 "nbformat": 4,
 "nbformat_minor": 2
}
