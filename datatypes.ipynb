{
 "cells": [
  {
   "cell_type": "markdown",
   "metadata": {},
   "source": [
    "Datatypes"
   ]
  },
  {
   "cell_type": "markdown",
   "metadata": {},
   "source": [
    "1. Numeric (Integer, Float, Complex)\n",
    "2. Sequence (String, List, Tuple)\n",
    "3. Dictionary\n",
    "4. Set"
   ]
  },
  {
   "cell_type": "markdown",
   "metadata": {},
   "source": [
    "Mutable(List, Dictionary, Byte array)\n",
    "Immutable(Int, float, complex, String, Tuple, Set)"
   ]
  },
  {
   "cell_type": "code",
   "execution_count": 4,
   "metadata": {},
   "outputs": [
    {
     "name": "stdout",
     "output_type": "stream",
     "text": [
      "5 <class 'int'>\n",
      "0.4 <class 'float'>\n",
      "2j <class 'complex'>\n"
     ]
    }
   ],
   "source": [
    "#Number\n",
    "a = 5\n",
    "b = 0.4\n",
    "c = 2j\n",
    "\n",
    "print(a , type(a))\n",
    "print(b , type(b))\n",
    "print(c , type(c))\n"
   ]
  },
  {
   "cell_type": "code",
   "execution_count": 6,
   "metadata": {},
   "outputs": [
    {
     "name": "stdout",
     "output_type": "stream",
     "text": [
      "<class 'str'>\n"
     ]
    }
   ],
   "source": [
    "#string\n",
    "s = \"This is string\"\n",
    "m = \"\"\" This \n",
    "is \n",
    "string \n",
    "\"\"\"\n",
    "print(type(m))"
   ]
  },
  {
   "cell_type": "code",
   "execution_count": 1,
   "metadata": {},
   "outputs": [
    {
     "name": "stdout",
     "output_type": "stream",
     "text": [
      "[1, 2, 'a', 4j, True]\n",
      "1\n",
      "<class 'int'>\n",
      "2\n",
      "<class 'int'>\n",
      "a\n",
      "<class 'str'>\n",
      "4j\n",
      "<class 'complex'>\n",
      "True\n",
      "<class 'bool'>\n",
      "<class 'list'>\n"
     ]
    }
   ],
   "source": [
    "#List\n",
    "a =[1,2,\"a\",4j,True]\n",
    "print(a)\n",
    "for i in range(0,5):\n",
    "    print(a[i])\n",
    "    print(type(a[i]))\n",
    "print(type(a))\n",
    "    "
   ]
  },
  {
   "cell_type": "code",
   "execution_count": 2,
   "metadata": {},
   "outputs": [
    {
     "name": "stdout",
     "output_type": "stream",
     "text": [
      "[10, 6, 5, 7.8]\n"
     ]
    }
   ],
   "source": [
    "l = [10,6,\"hi\",7.8]   # mutable/ changable\n",
    "l[2]= 5\n",
    "print(l)"
   ]
  },
  {
   "cell_type": "code",
   "execution_count": 9,
   "metadata": {},
   "outputs": [
    {
     "name": "stdout",
     "output_type": "stream",
     "text": [
      "(12, 89, 'hi', 9.8)\n",
      "<class 'tuple'>\n",
      "<class 'int'>\n"
     ]
    }
   ],
   "source": [
    "#Tuple  faster as compare to  list\n",
    "\n",
    "t = (12,89,\"hi\",9.8)\n",
    "print(t)\n",
    "print(type(t))\n",
    "#t[1]= 89  # immutable\n",
    "t1= (7)\n",
    "print(type(t1))\n"
   ]
  },
  {
   "cell_type": "code",
   "execution_count": 21,
   "metadata": {},
   "outputs": [
    {
     "name": "stdout",
     "output_type": "stream",
     "text": [
      "{1: 7, 2: 9, 3: 4, 'hi': 8}\n",
      "<class 'dict'>\n",
      "7\n",
      "{1: 6}\n"
     ]
    }
   ],
   "source": [
    "#dictionary  key:value  mutable\n",
    "\n",
    "d = {\n",
    "    1 : 7,\n",
    "    2 : 9,\n",
    "    3 : 4,\n",
    "    \"hi\" : 8\n",
    "\n",
    "}\n",
    "print(d)\n",
    "print(type(d))\n",
    "print(d[1])\n",
    "\n",
    "\n",
    "print(d)"
   ]
  },
  {
   "cell_type": "code",
   "execution_count": 23,
   "metadata": {},
   "outputs": [
    {
     "name": "stdout",
     "output_type": "stream",
     "text": [
      "{9, 6, 7}\n"
     ]
    }
   ],
   "source": [
    "#set no dublicacy, immutable\n",
    "\n",
    "s = {7,9,6,7,7,6,9}\n",
    "print(s)\n",
    "\n",
    "\n",
    "\n"
   ]
  }
 ],
 "metadata": {
  "kernelspec": {
   "display_name": "Python 3",
   "language": "python",
   "name": "python3"
  },
  "language_info": {
   "codemirror_mode": {
    "name": "ipython",
    "version": 3
   },
   "file_extension": ".py",
   "mimetype": "text/x-python",
   "name": "python",
   "nbconvert_exporter": "python",
   "pygments_lexer": "ipython3",
   "version": "3.11.1"
  }
 },
 "nbformat": 4,
 "nbformat_minor": 2
}
