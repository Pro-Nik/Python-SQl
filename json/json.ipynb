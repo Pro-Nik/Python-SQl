{
 "cells": [
  {
   "cell_type": "markdown",
   "metadata": {},
   "source": [
    "Json File - For data storing and transfer data between browser and server\n",
    "Json supports string,number,boolean,null,object,array"
   ]
  },
  {
   "cell_type": "code",
   "execution_count": 1,
   "metadata": {},
   "outputs": [],
   "source": [
    "import json"
   ]
  },
  {
   "cell_type": "code",
   "execution_count": 9,
   "metadata": {},
   "outputs": [
    {
     "name": "stdout",
     "output_type": "stream",
     "text": [
      "{\"name\": \"Nitish\", \"roll no\": -37, \"year\": 2024}\n",
      "<class 'str'>\n"
     ]
    }
   ],
   "source": [
    "d = {\n",
    "    'name' : 'Nitish',\n",
    "    'roll no' : 24-26-35,\n",
    "    'year' : 2024\n",
    "}\n",
    "\n",
    "f = json.dumps(d)\n",
    "print(f)\n",
    "\n",
    "print(type(f))"
   ]
  },
  {
   "cell_type": "markdown",
   "metadata": {},
   "source": [
    "Json to python objects"
   ]
  },
  {
   "cell_type": "code",
   "execution_count": 37,
   "metadata": {},
   "outputs": [
    {
     "name": "stdout",
     "output_type": "stream",
     "text": [
      "<class 'dict'>\n",
      "John\n",
      "name John\n",
      "age 30\n",
      "city New York\n"
     ]
    }
   ],
   "source": [
    "import json\n",
    "\n",
    "# JSON string\n",
    "json_data = '{\"name\": \"John\", \"age\": 30, \"city\": \"New York\"}'\n",
    "\n",
    "# parse json_data\n",
    "parsed_data = json.loads(json_data)\n",
    "\n",
    "print(type(parsed_data))\n",
    "# the result is a Python dictionary\n",
    "print(parsed_data[\"name\"]) # Output: John\n",
    "\n",
    "for i in parsed_data:\n",
    "    print(i,parsed_data[i])"
   ]
  },
  {
   "cell_type": "code",
   "execution_count": null,
   "metadata": {},
   "outputs": [],
   "source": []
  }
 ],
 "metadata": {
  "kernelspec": {
   "display_name": "Python 3",
   "language": "python",
   "name": "python3"
  },
  "language_info": {
   "codemirror_mode": {
    "name": "ipython",
    "version": 3
   },
   "file_extension": ".py",
   "mimetype": "text/x-python",
   "name": "python",
   "nbconvert_exporter": "python",
   "pygments_lexer": "ipython3",
   "version": "3.11.1"
  }
 },
 "nbformat": 4,
 "nbformat_minor": 2
}
