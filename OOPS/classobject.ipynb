{
 "cells": [
  {
   "cell_type": "code",
   "execution_count": 6,
   "metadata": {},
   "outputs": [
    {
     "name": "stdout",
     "output_type": "stream",
     "text": [
      "10\n",
      "10\n",
      "String\n"
     ]
    }
   ],
   "source": [
    "class Demo:\n",
    "    a = 10\n",
    "    b=20\n",
    "    c =\"String\"\n",
    "\n",
    "obj = Demo()\n",
    "obj1 = Demo()\n",
    "obj2 = Demo()\n",
    "\n",
    "print(obj.a)\n",
    "print(obj1.a)\n",
    "print(obj.c)\n",
    "\n"
   ]
  },
  {
   "cell_type": "markdown",
   "metadata": {},
   "source": [
    "Method in class"
   ]
  },
  {
   "cell_type": "code",
   "execution_count": 13,
   "metadata": {},
   "outputs": [
    {
     "name": "stdout",
     "output_type": "stream",
     "text": [
      "30\n"
     ]
    }
   ],
   "source": [
    "class car:\n",
    "    a = \"Maruti\"\n",
    "\n",
    "    def sum(self):\n",
    "        print(10+20)\n",
    "\n",
    "obj1 = car()\n",
    "\n",
    "obj1.sum()"
   ]
  },
  {
   "cell_type": "markdown",
   "metadata": {},
   "source": [
    "Mathod and Constructor"
   ]
  },
  {
   "cell_type": "code",
   "execution_count": 26,
   "metadata": {},
   "outputs": [
    {
     "name": "stdout",
     "output_type": "stream",
     "text": [
      "I am constructor. I run when object declared\n",
      "10\n",
      "100\n",
      "This is a string\n",
      "30\n"
     ]
    }
   ],
   "source": [
    "class democlass:\n",
    "    a=10\n",
    " # constructor\n",
    "    def __init__(self):\n",
    "        print(\"I am constructor. I run when object declared\")\n",
    "    \n",
    "\n",
    "    def showvalue(self):\n",
    "        print(self.a)  # Important\n",
    "\n",
    "        self.c = self.a*self.a\n",
    "        print(self.c)\n",
    "\n",
    "    def showstring(self):\n",
    "        print(\"This is a string\")\n",
    "\n",
    "    def sum(self,a,b):\n",
    "        print(a+b)\n",
    "    \n",
    "obj = democlass()\n",
    "\n",
    "obj.showvalue()\n",
    "obj.showstring()\n",
    "obj.sum(10,20)"
   ]
  }
 ],
 "metadata": {
  "kernelspec": {
   "display_name": "Python 3",
   "language": "python",
   "name": "python3"
  },
  "language_info": {
   "codemirror_mode": {
    "name": "ipython",
    "version": 3
   },
   "file_extension": ".py",
   "mimetype": "text/x-python",
   "name": "python",
   "nbconvert_exporter": "python",
   "pygments_lexer": "ipython3",
   "version": "3.11.1"
  }
 },
 "nbformat": 4,
 "nbformat_minor": 2
}
