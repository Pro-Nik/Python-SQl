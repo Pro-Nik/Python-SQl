{
 "cells": [
  {
   "cell_type": "markdown",
   "metadata": {},
   "source": [
    "Encapsulation "
   ]
  },
  {
   "cell_type": "markdown",
   "metadata": {},
   "source": [
    "Getter Setter"
   ]
  },
  {
   "cell_type": "code",
   "execution_count": 2,
   "metadata": {},
   "outputs": [
    {
     "name": "stdout",
     "output_type": "stream",
     "text": [
      "testing\n"
     ]
    }
   ],
   "source": [
    "class student:\n",
    "    def __init__(self):\n",
    "        self._name= \"\"\n",
    "\n",
    "    def getname(self):\n",
    "        return self._name\n",
    "    \n",
    "    def setname(self,name):\n",
    "        self._name = name\n",
    "\n",
    "obj = student()\n",
    "obj.setname(\"testing\")\n",
    "name1 = obj.getname()\n",
    "print(name1)"
   ]
  },
  {
   "cell_type": "code",
   "execution_count": 4,
   "metadata": {},
   "outputs": [
    {
     "name": "stdout",
     "output_type": "stream",
     "text": [
      "Nitish\n"
     ]
    }
   ],
   "source": [
    "class Student:   \n",
    "    name= \"Nitish\" # no problem\n",
    "\n",
    "obj = Student()\n",
    "print(obj.name)"
   ]
  },
  {
   "cell_type": "code",
   "execution_count": 13,
   "metadata": {},
   "outputs": [
    {
     "name": "stdout",
     "output_type": "stream",
     "text": [
      "Nitish\n",
      "Welcome\n",
      "None\n"
     ]
    }
   ],
   "source": [
    "class Student:\n",
    "    __name= \"Nitish\" # private\n",
    "    def __init__(self):\n",
    "        print(self.__name)\n",
    "        print(self.__displayinfo())\n",
    "\n",
    "    def __displayinfo(self):\n",
    "        print(\"Welcome\")\n",
    "\n",
    "obj = Student()\n",
    "# print(obj.__name)  # not required constuctor can automatically caal itself\n",
    "# print(obj.__displayinfo)\n",
    "\n"
   ]
  }
 ],
 "metadata": {
  "kernelspec": {
   "display_name": "Python 3",
   "language": "python",
   "name": "python3"
  },
  "language_info": {
   "codemirror_mode": {
    "name": "ipython",
    "version": 3
   },
   "file_extension": ".py",
   "mimetype": "text/x-python",
   "name": "python",
   "nbconvert_exporter": "python",
   "pygments_lexer": "ipython3",
   "version": "3.11.1"
  }
 },
 "nbformat": 4,
 "nbformat_minor": 2
}
