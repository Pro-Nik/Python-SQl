{
 "cells": [
  {
   "cell_type": "markdown",
   "metadata": {},
   "source": [
    "Polymorphism - same function but different signatures used for differenr types"
   ]
  },
  {
   "cell_type": "markdown",
   "metadata": {},
   "source": [
    "len() can count for list,tuple etc this is polymorphism"
   ]
  },
  {
   "cell_type": "code",
   "execution_count": 3,
   "metadata": {},
   "outputs": [
    {
     "name": "stdout",
     "output_type": "stream",
     "text": [
      "5\n",
      "12\n"
     ]
    }
   ],
   "source": [
    "l = [12,34,23,67,32]\n",
    "print(len(l))\n",
    "\n",
    "s = \"Nitish Yadav\"\n",
    "print(len(s))"
   ]
  },
  {
   "cell_type": "markdown",
   "metadata": {},
   "source": [
    "Function overloading - function same , parameter different"
   ]
  },
  {
   "cell_type": "code",
   "execution_count": 8,
   "metadata": {},
   "outputs": [
    {
     "name": "stdout",
     "output_type": "stream",
     "text": [
      "Welcome\n",
      "Welcome Nitish\n"
     ]
    }
   ],
   "source": [
    "class nik:\n",
    "    def display(self, name=''):\n",
    "        print(\"Welcome\" + name)\n",
    "\n",
    "obj = nik()\n",
    "obj.display()\n",
    "obj.display(\" Nitish\")\n",
    "\n",
    "# depends on parameter\n"
   ]
  },
  {
   "cell_type": "markdown",
   "metadata": {},
   "source": [
    "Overriding - same function name in different class"
   ]
  },
  {
   "cell_type": "code",
   "execution_count": 12,
   "metadata": {},
   "outputs": [
    {
     "name": "stdout",
     "output_type": "stream",
     "text": [
      "Nitish\n",
      "yadav\n"
     ]
    }
   ],
   "source": [
    "class nik:\n",
    "    def display(self):  # This(Parent) is overright by child \n",
    "        print(\"Nitish\")\n",
    "\n",
    "class muk(nik):\n",
    "    def display(self):\n",
    "# super function\n",
    "        super().display()\n",
    "\n",
    "        print(\"yadav\")\n",
    "\n",
    "obj = muk()\n",
    "obj.display()"
   ]
  }
 ],
 "metadata": {
  "kernelspec": {
   "display_name": "Python 3",
   "language": "python",
   "name": "python3"
  },
  "language_info": {
   "codemirror_mode": {
    "name": "ipython",
    "version": 3
   },
   "file_extension": ".py",
   "mimetype": "text/x-python",
   "name": "python",
   "nbconvert_exporter": "python",
   "pygments_lexer": "ipython3",
   "version": "3.11.1"
  }
 },
 "nbformat": 4,
 "nbformat_minor": 2
}
