{
 "cells": [
  {
   "cell_type": "markdown",
   "metadata": {},
   "source": [
    "Inheritance"
   ]
  },
  {
   "cell_type": "markdown",
   "metadata": {},
   "source": [
    "Multi level Inheritance"
   ]
  },
  {
   "cell_type": "code",
   "execution_count": 2,
   "metadata": {},
   "outputs": [
    {
     "name": "stdout",
     "output_type": "stream",
     "text": [
      "First class\n",
      "Second Class\n",
      "Third class\n"
     ]
    }
   ],
   "source": [
    "class A:\n",
    "    def displayA(self):\n",
    "        print(\"First class\")\n",
    "\n",
    "class B(A):\n",
    "    def displayB(self):\n",
    "        print(\"Second Class\")\n",
    "\n",
    "class C(B):\n",
    "    def displayC(self):\n",
    "        print(\"Third class\")\n",
    "\n",
    "obj = C()\n",
    "\n",
    "obj.displayA()\n",
    "obj.displayB()\n",
    "obj.displayC()\n"
   ]
  },
  {
   "cell_type": "markdown",
   "metadata": {},
   "source": [
    "Multiple Inheritance"
   ]
  },
  {
   "cell_type": "code",
   "execution_count": 3,
   "metadata": {},
   "outputs": [
    {
     "name": "stdout",
     "output_type": "stream",
     "text": [
      "First class\n",
      "Second class\n",
      "Third class\n"
     ]
    }
   ],
   "source": [
    "class A:\n",
    "    def a(self):\n",
    "        print(\"First class\")\n",
    "    \n",
    "class B:\n",
    "    def b(self):\n",
    "        print(\"Second class\")\n",
    "\n",
    "class C(A,B):\n",
    "    def c(self):\n",
    "        print(\"Third class\")\n",
    "\n",
    "obj = C()\n",
    "\n",
    "obj.a()\n",
    "obj.b()\n",
    "obj.c()\n"
   ]
  }
 ],
 "metadata": {
  "kernelspec": {
   "display_name": "Python 3",
   "language": "python",
   "name": "python3"
  },
  "language_info": {
   "codemirror_mode": {
    "name": "ipython",
    "version": 3
   },
   "file_extension": ".py",
   "mimetype": "text/x-python",
   "name": "python",
   "nbconvert_exporter": "python",
   "pygments_lexer": "ipython3",
   "version": "3.11.1"
  }
 },
 "nbformat": 4,
 "nbformat_minor": 2
}
