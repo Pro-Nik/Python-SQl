{
 "cells": [
  {
   "cell_type": "code",
   "execution_count": 2,
   "metadata": {},
   "outputs": [],
   "source": [
    "#Operators\n",
    "# Arithmetic Oper\n",
    "# Addition,sub,mul,div,mod"
   ]
  },
  {
   "cell_type": "code",
   "execution_count": 5,
   "metadata": {},
   "outputs": [
    {
     "name": "stdout",
     "output_type": "stream",
     "text": [
      "121\n"
     ]
    }
   ],
   "source": [
    "# ** Exponents\n",
    "x = 11\n",
    "y = 2\n",
    "print((x**y))"
   ]
  },
  {
   "cell_type": "code",
   "execution_count": 6,
   "metadata": {},
   "outputs": [
    {
     "name": "stdout",
     "output_type": "stream",
     "text": [
      "5.5\n",
      "5\n"
     ]
    }
   ],
   "source": [
    "# // Floor division\n",
    "print(x/y)\n",
    "print(x//y)"
   ]
  },
  {
   "cell_type": "markdown",
   "metadata": {},
   "source": [
    "Assignment op"
   ]
  },
  {
   "cell_type": "code",
   "execution_count": 11,
   "metadata": {},
   "outputs": [
    {
     "name": "stdout",
     "output_type": "stream",
     "text": [
      "2 2\n",
      "4\n",
      "-1\n"
     ]
    }
   ],
   "source": [
    "x=y\n",
    "print(x,y)\n",
    "\n",
    "x += 2\n",
    "print(x)\n",
    "\n",
    "x -=5\n",
    "print(x)"
   ]
  },
  {
   "cell_type": "markdown",
   "metadata": {},
   "source": [
    "Comparision Op"
   ]
  },
  {
   "cell_type": "code",
   "execution_count": 13,
   "metadata": {},
   "outputs": [
    {
     "name": "stdout",
     "output_type": "stream",
     "text": [
      "False\n"
     ]
    }
   ],
   "source": [
    "a = 6\n",
    "b = 4\n",
    "\n",
    "print(a==b)"
   ]
  },
  {
   "cell_type": "code",
   "execution_count": 14,
   "metadata": {},
   "outputs": [
    {
     "name": "stdout",
     "output_type": "stream",
     "text": [
      "True\n"
     ]
    }
   ],
   "source": [
    "print(a!=b)"
   ]
  },
  {
   "cell_type": "code",
   "execution_count": 15,
   "metadata": {},
   "outputs": [
    {
     "name": "stdout",
     "output_type": "stream",
     "text": [
      "True\n",
      "False\n",
      "False\n",
      "True\n"
     ]
    }
   ],
   "source": [
    "print(a>b)\n",
    "print(a<b)\n",
    "print(a<=b)\n",
    "print(a>=b)\n"
   ]
  },
  {
   "cell_type": "markdown",
   "metadata": {},
   "source": [
    "Logical Op"
   ]
  },
  {
   "cell_type": "code",
   "execution_count": 24,
   "metadata": {},
   "outputs": [
    {
     "name": "stdout",
     "output_type": "stream",
     "text": [
      "2nd or 3rd\n",
      "Ist Division\n",
      "False\n"
     ]
    }
   ],
   "source": [
    "x= 60\n",
    "y = 75\n",
    "# and both must be true\n",
    "# if first condition is false then it will not check further\n",
    "if x <= 60 and x>80:\n",
    "    print(\"Ist Division\")\n",
    "else:\n",
    "    print(\"2nd or 3rd\")\n",
    "\n",
    "# or any one or both can be true\n",
    "# if first will true then it check till last \n",
    "if x <= 60 or x>80:\n",
    "     print(\"Ist Division\")\n",
    "else:\n",
    "    print(\"2nd or 3rd\")\n",
    "\n",
    "# not \n",
    "print(not(x <= 60 or x>80))\n",
    "\n",
    "\n"
   ]
  },
  {
   "cell_type": "markdown",
   "metadata": {},
   "source": [
    "MemberShip Op"
   ]
  },
  {
   "cell_type": "code",
   "execution_count": 32,
   "metadata": {},
   "outputs": [
    {
     "name": "stdout",
     "output_type": "stream",
     "text": [
      "True\n",
      "False\n",
      "This\n"
     ]
    }
   ],
   "source": [
    "z = \"This is a boy\"\n",
    "print(\"This\" in z)\n",
    "print(\"is\" not in z)\n",
    "print(z[0:4])"
   ]
  },
  {
   "cell_type": "markdown",
   "metadata": {},
   "source": [
    "Identity Op\n"
   ]
  },
  {
   "cell_type": "code",
   "execution_count": 34,
   "metadata": {},
   "outputs": [
    {
     "name": "stdout",
     "output_type": "stream",
     "text": [
      "False\n",
      "True\n"
     ]
    }
   ],
   "source": [
    "print(x is y)\n",
    "print(z is not y)"
   ]
  },
  {
   "cell_type": "markdown",
   "metadata": {},
   "source": [
    "Bitwise Op"
   ]
  },
  {
   "cell_type": "code",
   "execution_count": 43,
   "metadata": {},
   "outputs": [
    {
     "name": "stdout",
     "output_type": "stream",
     "text": [
      "0b1010\n",
      "0b1100\n",
      "8 0b1000\n"
     ]
    }
   ],
   "source": [
    "m = 10\n",
    "n = 12\n",
    "print(bin(m))\n",
    "print(bin(n))\n",
    "\n",
    "print(m & n , bin(m & n) )"
   ]
  },
  {
   "cell_type": "code",
   "execution_count": 16,
   "metadata": {},
   "outputs": [
    {
     "name": "stdout",
     "output_type": "stream",
     "text": [
      "10\n",
      "5\n",
      "k and l: 0\n",
      "k or l: 15\n",
      "0b0\n",
      "0b1111\n"
     ]
    }
   ],
   "source": [
    "k = 0b1010\n",
    "l = 0b0101\n",
    "\n",
    "print(k)\n",
    "print(l)\n",
    "\n",
    "print(\"k and l:\",  (k&l))\n",
    "print(\"k or l:\", k|l)\n",
    "\n",
    "print(bin(k&l))\n",
    "print(bin(k|l))"
   ]
  }
 ],
 "metadata": {
  "kernelspec": {
   "display_name": "Python 3",
   "language": "python",
   "name": "python3"
  },
  "language_info": {
   "codemirror_mode": {
    "name": "ipython",
    "version": 3
   },
   "file_extension": ".py",
   "mimetype": "text/x-python",
   "name": "python",
   "nbconvert_exporter": "python",
   "pygments_lexer": "ipython3",
   "version": "3.11.1"
  }
 },
 "nbformat": 4,
 "nbformat_minor": 2
}
