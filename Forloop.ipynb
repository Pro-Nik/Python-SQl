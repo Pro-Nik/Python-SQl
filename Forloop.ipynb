{
 "cells": [
  {
   "cell_type": "markdown",
   "metadata": {},
   "source": [
    "For loop"
   ]
  },
  {
   "cell_type": "code",
   "execution_count": 3,
   "metadata": {},
   "outputs": [
    {
     "data": {
      "text/plain": [
       "range(1, 6, 2)"
      ]
     },
     "execution_count": 3,
     "metadata": {},
     "output_type": "execute_result"
    }
   ],
   "source": [
    "range(1,6,2) # 1 to 6 with 2 incement"
   ]
  },
  {
   "cell_type": "code",
   "execution_count": 7,
   "metadata": {},
   "outputs": [
    {
     "name": "stdout",
     "output_type": "stream",
     "text": [
      "0\n",
      "1\n",
      "2\n",
      "3\n",
      "4\n",
      "2nd loop\n",
      "1\n",
      "2\n",
      "3\n",
      "4\n",
      "5\n",
      "3rd loop\n",
      "2\n",
      "5\n",
      "8\n"
     ]
    }
   ],
   "source": [
    "for i in range(5):\n",
    "    print(i)\n",
    "print(\"2nd loop\")\n",
    "for i in range(1,6):\n",
    "    print(i)\n",
    "print(\"3rd loop\")\n",
    "for i in range(2,10,3):\n",
    "    print(i)\n",
    "\n",
    "    "
   ]
  },
  {
   "cell_type": "code",
   "execution_count": 10,
   "metadata": {},
   "outputs": [
    {
     "name": "stdout",
     "output_type": "stream",
     "text": [
      "2 *  1 =  2\n",
      "2 *  2 =  4\n",
      "2 *  3 =  6\n",
      "2 *  4 =  8\n",
      "2 *  5 =  10\n",
      "2 *  6 =  12\n",
      "2 *  7 =  14\n",
      "2 *  8 =  16\n",
      "2 *  9 =  18\n",
      "2 *  10 =  20\n"
     ]
    }
   ],
   "source": [
    "#table\n",
    "\n",
    "for i in range(1,11):\n",
    "    print(\"2 * \",i ,\"= \",2*i)\n",
    "    "
   ]
  }
 ],
 "metadata": {
  "kernelspec": {
   "display_name": "Python 3",
   "language": "python",
   "name": "python3"
  },
  "language_info": {
   "codemirror_mode": {
    "name": "ipython",
    "version": 3
   },
   "file_extension": ".py",
   "mimetype": "text/x-python",
   "name": "python",
   "nbconvert_exporter": "python",
   "pygments_lexer": "ipython3",
   "version": "3.11.1"
  }
 },
 "nbformat": 4,
 "nbformat_minor": 2
}
